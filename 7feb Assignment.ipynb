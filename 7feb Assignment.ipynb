{
 "cells": [
  {
   "cell_type": "markdown",
   "metadata": {},
   "source": [
    "Q1. You are writing code for a company. The requirement of the company is that you create a python\n",
    "function that will check whether the password entered by the user is correct or not. The function should\n",
    "take the password as input and return the string “Valid Password” if the entered password follows the\n",
    "below-given password guidelines else it should return “Invalid Password”.\n",
    "\n",
    "Note: \n",
    "1. The Password should contain at least two uppercase letters and at least two lowercase letters.\n",
    "\n",
    "2. The Password should contain at least a number and three special characters.\n",
    "\n",
    "3. The length of the password should be 10 characters long."
   ]
  },
  {
   "cell_type": "code",
   "execution_count": 20,
   "metadata": {},
   "outputs": [
    {
     "name": "stdout",
     "output_type": "stream",
     "text": [
      "valid password.\n"
     ]
    }
   ],
   "source": [
    "def check_pass(pas):\n",
    "    upper_case, lower_case, number, special_case = 0, 0, 0, 0\n",
    "    if len(pas) >= 10:\n",
    "        for i in pas:\n",
    "            if 'A' <= i <= 'Z':\n",
    "                upper_case += 1\n",
    "            elif 'a' <= i <= 'z':\n",
    "                lower_case += 1\n",
    "            elif '0' <= i <= '9':\n",
    "                number += 1\n",
    "            else:\n",
    "                special_case += 1\n",
    "        if upper_case >= 2 and lower_case >= 2 and number >= 1 and special_case > 2:\n",
    "            return \"valid password.\"\n",
    "        else:\n",
    "            return \"invalid password.\"\n",
    "    else:\n",
    "        return \"invalid password.\"\n",
    "\n",
    "pas = input(\"enter password:\")\n",
    "result = check_pass(pas)\n",
    "print(result)\n"
   ]
  },
  {
   "cell_type": "markdown",
   "metadata": {},
   "source": [
    "Q2. Solve the below-given questions using at least one of the following:\n",
    "1. Lambda function\n",
    "2. Filter function\n",
    "3. map function\n",
    "4. List Comprehension\n",
    " Check if the string starts with a particular letter.\n",
    "\n",
    " Check if the string is numeric.\n",
    "\n",
    " Sort a list of tuples having fruit names and their quantity. [(\"mango\",99),(\"orange\",80), (\"grapes\", 1000).]\n",
    "\n",
    " Find the squares of numbers from 1 to 10.\n",
    "\n",
    " Find the cube root of numbers from 1 to 10.\n",
    "\n",
    " Check if a given number is even.\n",
    "\n",
    " Filter odd numbers from the given list.\n",
    "\n",
    "[1,2,3,4,5,6,7,8,9,10]\n",
    "\n",
    " Sort a list of integers into positive and negative integers lists.\n",
    " \n",
    "[1,2,3,4,5,6,-1,-2,-3,-4,-5,0]\n",
    "\n"
   ]
  },
  {
   "cell_type": "code",
   "execution_count": 1,
   "metadata": {},
   "outputs": [
    {
     "name": "stdout",
     "output_type": "stream",
     "text": [
      "[]\n"
     ]
    }
   ],
   "source": [
    "# Check if the string starts with a particular letter.\n",
    "string = \"apple\"\n",
    "starting_letter = \"b\"\n",
    "result_starts_with_b = list(filter(lambda s: s.startswith(starting_letter), string))\n",
    "print(result_starts_with_b)"
   ]
  },
  {
   "cell_type": "code",
   "execution_count": 2,
   "metadata": {},
   "outputs": [
    {
     "name": "stdout",
     "output_type": "stream",
     "text": [
      "['123', '456']\n"
     ]
    }
   ],
   "source": [
    "# Check if the string is numeric.\n",
    "strings = [\"123\", \"abc\", \"456\", \"789xyz\"]\n",
    "result_numeric = list(filter(lambda s: s.isnumeric(), strings))\n",
    "print(result_numeric)"
   ]
  },
  {
   "cell_type": "code",
   "execution_count": 3,
   "metadata": {},
   "outputs": [
    {
     "name": "stdout",
     "output_type": "stream",
     "text": [
      "[('orange', 80), ('mango', 99), ('grapes', 1000)]\n"
     ]
    }
   ],
   "source": [
    "# Sort a list of tuples having fruit names and their quantity.\n",
    "fruits = [(\"mango\", 99), (\"orange\", 80), (\"grapes\", 1000)]\n",
    "sorted_fruits = sorted(fruits, key=lambda x: x[1])\n",
    "print(sorted_fruits)"
   ]
  },
  {
   "cell_type": "code",
   "execution_count": 6,
   "metadata": {},
   "outputs": [
    {
     "name": "stdout",
     "output_type": "stream",
     "text": [
      "[1, 4, 9, 16, 25, 36, 49, 64, 81, 100]\n"
     ]
    }
   ],
   "source": [
    "# Find the squares of numbers from 1 to 10.\n",
    "numbers = list(range(1, 11))\n",
    "squares = [x**2 for x in numbers]\n",
    "print(squares)\n"
   ]
  },
  {
   "cell_type": "code",
   "execution_count": 7,
   "metadata": {},
   "outputs": [
    {
     "name": "stdout",
     "output_type": "stream",
     "text": [
      "[1, 8, 27, 64, 125, 216, 343, 512, 729, 1000]\n"
     ]
    }
   ],
   "source": [
    "# Find the cubes of numbers from 1 to 10.\n",
    "numbers = list(range(1, 11))\n",
    "cubes = [x**3 for x in numbers]\n",
    "print(cubes)\n"
   ]
  },
  {
   "cell_type": "code",
   "execution_count": 10,
   "metadata": {},
   "outputs": [
    {
     "name": "stdout",
     "output_type": "stream",
     "text": [
      "True\n"
     ]
    }
   ],
   "source": [
    "# Check if a given number is even.\n",
    "num = int( input ())\n",
    "is_even = lambda num:num % 2 == 0\n",
    "print(is_even(num))\n"
   ]
  },
  {
   "cell_type": "code",
   "execution_count": 5,
   "metadata": {},
   "outputs": [
    {
     "name": "stdout",
     "output_type": "stream",
     "text": [
      "[1, 3, 5, 7, 9]\n"
     ]
    }
   ],
   "source": [
    "# Filter odd numbers from the given list. [1,2,3,4,5,6,7,8,9,10]\n",
    "my_list = [1,2,3,4,5,6,7,8,9,10]\n",
    "odd = list(filter(lambda x: x % 2 != 0 , my_list))\n",
    "print(odd)"
   ]
  },
  {
   "cell_type": "code",
   "execution_count": 8,
   "metadata": {},
   "outputs": [
    {
     "name": "stdout",
     "output_type": "stream",
     "text": [
      "[1, 2, 3, 4, 5, 6]\n",
      "[-1, -2, -3, -4, -5]\n"
     ]
    }
   ],
   "source": [
    "# Sort a list of integers into positive and negative integers lists. [1,2,3,4,5,6,-1,-2,-3,-4,-5,0]\n",
    "\n",
    "numbers_list = [1, 2, 3, 4, 5, 6, -1, -2, -3, -4, -5, 0]\n",
    "positive_numbers = [x for x in numbers_list if x > 0]\n",
    "negative_numbers = [x for x in numbers_list if x < 0]\n",
    "print(positive_numbers)\n",
    "print(negative_numbers)\n",
    "\n"
   ]
  }
 ],
 "metadata": {
  "kernelspec": {
   "display_name": "Python 3",
   "language": "python",
   "name": "python3"
  },
  "language_info": {
   "codemirror_mode": {
    "name": "ipython",
    "version": 3
   },
   "file_extension": ".py",
   "mimetype": "text/x-python",
   "name": "python",
   "nbconvert_exporter": "python",
   "pygments_lexer": "ipython3",
   "version": "3.10.4"
  },
  "orig_nbformat": 4
 },
 "nbformat": 4,
 "nbformat_minor": 2
}
